{
 "cells": [
  {
   "cell_type": "markdown",
   "id": "b2100f53-d502-4a65-baab-c9bf9f00d299",
   "metadata": {},
   "source": [
    "### This jupyter note book include scripts\n",
    "1. export data from redcap \n",
    "2. preprocess data into dataframe in format used for drawing Kaplan Meier curve\n",
    "3. utlize jupytab to provided server contains the tables connect to tableau through web data connector\n",
    "\n",
    "Reference: Jupytab https://towardsdatascience.com/interactive-simulation-with-tableau-and-jupytab-c26adb1be564"
   ]
  },
  {
   "cell_type": "code",
   "execution_count": 5,
   "id": "77ebe74d-ae87-4551-96f8-9570e99cc021",
   "metadata": {},
   "outputs": [],
   "source": [
    "import pandas as pd\n",
    "import jupytab\n",
    "import numpy as np\n",
    "import pandas as pd\n",
    "import os\n",
    "import csv\n",
    "import requests\n",
    "import sys\n",
    "from datetime import datetime\n",
    "import sys\n",
    "if sys.version_info[0] < 3: \n",
    "    from StringIO import StringIO\n",
    "else:\n",
    "    from io import StringIO\n",
    "import warnings\n",
    "warnings.filterwarnings(\"ignore\")"
   ]
  },
  {
   "cell_type": "markdown",
   "id": "ce1d2e01-49c4-4111-8477-c792d44ba24a",
   "metadata": {},
   "source": [
    "#### Export data from redcap \n",
    "- we use the script to export records from redcap, the script can get from API Playground in redcap webpage\n",
    "- when the HTTP STatus as 200, the http request successfully and we store data in CSV format"
   ]
  },
  {
   "cell_type": "code",
   "execution_count": 6,
   "id": "448ee22a-7e62-4659-9b47-4988745d50f9",
   "metadata": {},
   "outputs": [],
   "source": [
    "# this function is used to export data from the redcapdatabase\n",
    "def export_records_from_redcap(API_token):\n",
    "    '''\n",
    "    API_token: the string of the api token\n",
    "    '''\n",
    "    data = {\n",
    "        'token': API_token,\n",
    "        'content': 'record',\n",
    "        'action': 'export',\n",
    "        'format': 'csv',\n",
    "        'type': 'flat',\n",
    "        'csvDelimiter': '',\n",
    "        'rawOrLabel': 'raw',\n",
    "        'rawOrLabelHeaders': 'raw',\n",
    "        'exportCheckboxLabel': 'false',\n",
    "        'exportSurveyFields': 'false',\n",
    "        'exportDataAccessGroups': 'false',\n",
    "        'returnFormat': 'json'\n",
    "    }\n",
    "    r = requests.post('https://redcap.wehi.edu.au/api/',data=data)\n",
    "    print('HTTP Status: ' + str(r.status_code))\n",
    "    data = r.text\n",
    "    extracted_data = pd.read_csv(StringIO(data), sep=\",\")\n",
    "    return extracted_data"
   ]
  },
  {
   "cell_type": "code",
   "execution_count": 7,
   "id": "9c01065d-2e1a-452f-9698-eac46823d05b",
   "metadata": {},
   "outputs": [],
   "source": [
    "# API_token = '5384D3408C5BD6C3611DFFCA1D3B4E7F'\n",
    "# extracted_data = export_records_from_redcap(API_token)"
   ]
  },
  {
   "cell_type": "markdown",
   "id": "cb372003-db03-4d88-9451-0fe76fd32e39",
   "metadata": {},
   "source": [
    "#### preprocess data to format used for plotting Kaplan Meier curve "
   ]
  },
  {
   "cell_type": "code",
   "execution_count": 8,
   "id": "1ba7029b-37d0-45a8-9f34-a1e5e92578ce",
   "metadata": {},
   "outputs": [],
   "source": [
    "# this function is used to change the format extracted data redcap database format to seperate patient, condition and medication \n",
    "def transform_redcapdata_to_synthea(extracted_data):\n",
    "    '''\n",
    "    extracted_data: the data extracted from the redcapdatabese in csv format\n",
    "    '''\n",
    "    # as the extracted_data from redcap mixed the patient, condition and medication information,\n",
    "    # we seperate according to the redcap_repeat_instrument column\n",
    "    Patients = extracted_data[extracted_data['redcap_repeat_instrument'].isnull()]\n",
    "    Medications = extracted_data[extracted_data['redcap_repeat_instrument'] == 'medications']\n",
    "    Conditions = extracted_data[extracted_data['redcap_repeat_instrument'] == 'conditions']   \n",
    "    \n",
    "    \n",
    "    # map the column field name from redcap to name as Synthea so that can reuse code in the python scripts used for preprocess and clen data\n",
    "\n",
    "    Patients = Patients.rename(columns = {'id_patient':'Id',\n",
    "                                         'deathdate_patient':'DEATHDATE',\n",
    "                                         'birthdate_patient':'BIRTHDATE',\n",
    "                                         'gender_patient':'GENDER'})\n",
    "\n",
    "\n",
    "    Medications = Medications.rename(columns = {'id_patient':'PATIENT',\n",
    "                                         'description_medication':'DESCRIPTION',\n",
    "                                               'start_medication':'START',\n",
    "                                               'reasondescription_medication':'REASONDESCRIPTION',\n",
    "                                               'code_medication':'CODE',\n",
    "                                               'reasoncode_medication':'REASONCODE'})\n",
    "\n",
    "\n",
    "    Conditions = Conditions.rename(columns = {'id_patient':'PATIENT',\n",
    "                                         'description_condition':'DESCRIPTION',\n",
    "                                               'code_condition':'CODE',\n",
    "                                             'start_condition':'START'})\n",
    "    \n",
    "    # remove duplicate records\n",
    "    Patients = Patients.drop_duplicates(keep='first')\n",
    "    Medications = Medications.drop_duplicates(keep='first')\n",
    "    Conditions = Conditions.drop_duplicates(keep='first')\n",
    "    \n",
    "    return Patients,Medications,Conditions\n",
    "\n"
   ]
  },
  {
   "cell_type": "code",
   "execution_count": 9,
   "id": "43ad9bc5-b422-45a2-8821-52af19e3703e",
   "metadata": {},
   "outputs": [],
   "source": [
    "# #get the medication under the condition\n",
    "# def get_medication_under_condition(extracted_data,chosen_condition):\n",
    "#     Patients,Medications,Conditions = transform_redcapdata_to_synthea(extracted_data)\n",
    "#     selected_condition = Conditions[Conditions['DESCRIPTION'].isin(chosen_condition)]\n",
    "#     all_data = selected_condition.merge(Medications, how='inner', left_on=['PATIENT', 'DESCRIPTION'], right_on=['PATIENT', 'REASONDESCRIPTION'],suffixes=['_condition','_medication'])\n",
    "#     all_medicine = np.unique(all_data.DESCRIPTION_medication)\n",
    "#     return all_medicine\n",
    "\n",
    "\n",
    "\n",
    "# chosen_condition = ['Malignant neoplasm of breast (disorder)']\n",
    "\n",
    "# get_medication_under_condition(extracted_data,chosen_condition)  "
   ]
  },
  {
   "cell_type": "code",
   "execution_count": 10,
   "id": "0d170dce-5a3a-4aec-b7b8-b8cbe659d786",
   "metadata": {},
   "outputs": [],
   "source": [
    "# the function is used to get the data including (time_to_event, status) can be pluged into kaplanmeier estimator\n",
    "def get_standard_format_medication(extracted_data,chosen_condition,chosen_medication,survival_analysis_endtime):\n",
    "    '''\n",
    "    extracted_data: data extracted from redcapdatabase\n",
    "    chosen_condition: list of strings that contains the condition chosen for analysis\n",
    "    chosen_medication: list of strings that contains the medication chosen for analysis\n",
    "    survival_analysis_endtime: datatime object of the endtime of survival analysis\n",
    "    \n",
    "    '''\n",
    "    Patients,Medications,Conditions = transform_redcapdata_to_synthea(extracted_data)\n",
    "    \n",
    "    Medications['DESCRIPTION'] = Medications['DESCRIPTION'].apply(lambda x: x.lower())\n",
    "    date_format = \"%Y-%m-%d\"\n",
    "    \n",
    "    # condition on the condition(cancer type) and medication\n",
    "    selected_Conditions = Conditions[Conditions['CODE'].isin(chosen_condition)]\n",
    "\n",
    "    selected_Medications = Medications[Medications['CODE'].isin(chosen_medication)]\n",
    "\n",
    "    # join the medication and condition information\n",
    "    selected_data = selected_Conditions.merge(selected_Medications, how='inner', left_on=['PATIENT', 'CODE'], right_on=['PATIENT', 'REASONCODE'],suffixes=['_condition','_medication'])\n",
    "\n",
    "    # change to datetime type for time informatio\n",
    "    selected_data['START_medication'] = selected_data['START_medication'].apply(lambda row : datetime.strptime(str(row)[:10],date_format) if (type(row)==str) else 'not defined' )\n",
    "    selected_data['START_condition'] = selected_data['START_condition'].apply(lambda row : datetime.strptime(str(row)[:10],date_format) if (type(row)==str) else 'not defined' )\n",
    "    \n",
    "    # get the earliest_medication_starttime for the two medicine for each patient\n",
    "    earliest_medication_starttime = selected_data.groupby(['PATIENT','DESCRIPTION_medication','CODE_medication','DESCRIPTION_condition','START_condition'])['START_medication'].min().reset_index(name='earliest_medication_starttime')\n",
    "    \n",
    "    # we only select case that for the patient only take one of the drug\n",
    "    number_type_drug_took = earliest_medication_starttime.groupby('PATIENT').size().reset_index(name='type_drug_counts')\n",
    "    # get list of patient took both drug\n",
    "    patient_took_both_drug = list(number_type_drug_took.loc[number_type_drug_took.type_drug_counts>1].PATIENT)\n",
    "    # remove patient that took both drug\n",
    "    earliest_medication_starttime = earliest_medication_starttime[~earliest_medication_starttime['PATIENT'].isin(patient_took_both_drug)]\n",
    "\n",
    "    \n",
    "    # join with patient.csv to get deathdate information\n",
    "    selected_data = Patients.merge(earliest_medication_starttime, how='inner', left_on=['Id'], right_on=['PATIENT'])\n",
    "    \n",
    "\n",
    "    #get status for the event(death as 1, alive as 0)\n",
    "    selected_data['Status'] = selected_data['DEATHDATE'].apply(lambda row : 1 if (type(row)==str) else 0 )\n",
    "    selected_data['start_time'] = selected_data['earliest_medication_starttime']\n",
    "    \n",
    "    # data must have start_time\n",
    "    selected_data = selected_data[selected_data['start_time'].notna()]\n",
    "  \n",
    "\n",
    "    #get end_time for events( if alive then use the survival_analysis_endtime else use the deathtime\n",
    "    selected_data['end_time'] = selected_data['DEATHDATE'].apply(lambda row : datetime.strptime(str(row)[:10],date_format) if (type(row)==str) else survival_analysis_endtime)\n",
    "    selected_data['Time'] = (selected_data['end_time'] - selected_data['start_time'])\n",
    "    selected_data['BIRTHDATE'] = selected_data['BIRTHDATE'].apply(lambda row : datetime.strptime(str(row)[:10],date_format) if (type(row)==str) else 'not defined' )\n",
    "    selected_data['Age_cancer'] = (selected_data['START_condition'] - selected_data['BIRTHDATE'])\n",
    "    selected_data['Age_cancer'] = round(selected_data['Age_cancer'].dt.days/365)\n",
    "    \n",
    "    selected_data =selected_data.rename(columns = {'DESCRIPTION_medication':'Medication'})\n",
    "    # get gender as text\n",
    "    selected_data.GENDER = selected_data.GENDER.map({1: 'M', 2: 'F'})\n",
    "    \n",
    "    # Note time is in type of datetime, we need to change to integer\n",
    "    selected_data['Time'] = selected_data['Time'].dt.days\n",
    "\n",
    "    \n",
    "    # Notice we need to add the start point for each group for the Kaplan Meier curve(Survival probability as 1 when Time at 0)\n",
    "    start_point = False\n",
    "    if start_point==False:\n",
    "        for medication_type in np.unique(selected_data.Medication):\n",
    "            new_row = {\"Id\":\"Added\",\"Time\":0,\"Status\":0,\"Medication\": medication_type}\n",
    "            selected_data = selected_data.append(new_row, ignore_index=True)\n",
    "        start_point = True\n",
    "\n",
    "    \n",
    "    return selected_data"
   ]
  },
  {
   "cell_type": "markdown",
   "id": "d19f103a-bf07-4e01-b524-1e35e9345569",
   "metadata": {},
   "source": [
    "### 5 Test benchmark data"
   ]
  },
  {
   "cell_type": "code",
   "execution_count": 11,
   "id": "b5cfe7d5-9b99-4ccc-a63c-5dd164e2decc",
   "metadata": {},
   "outputs": [],
   "source": [
    "# the function is used to get standard format to do Kaplan Meier curve on differentcondition\n",
    "def get_standard_format_Synthea_condition_case(Patient,Conditions,chosen_condition,Time_format,survival_analysis_endtime):\n",
    "    \n",
    "    selected_condition = Conditions[Conditions['DESCRIPTION'].isin(chosen_condition)]\n",
    "\n",
    "    selected_data = selected_condition.reset_index().merge(Patient, left_on='PATIENT', right_on='Id',\n",
    "                                          how='left', suffixes=['_condition',''])\n",
    " \n",
    "    selected_data = selected_data[selected_data['START'].notna()]\n",
    "\n",
    "    # get start time and end time(death date) if alive then end time as undefined\n",
    "    selected_data['start_time'] = selected_data['START'].apply(lambda row : datetime.strptime(str(row)[:10],Time_format)  )\n",
    "    selected_data['Status'] = selected_data['DEATHDATE'].apply(lambda row : 1 if (type(row)==str) else 0 )\n",
    "\n",
    "    selected_data['end_time'] = selected_data['DEATHDATE'].apply(lambda row : datetime.strptime(str(row)[:10],Time_format) if (type(row)==str) else survival_analysis_endtime)\n",
    "    \n",
    "\n",
    "    selected_data['Time'] = (selected_data['end_time'] - selected_data['start_time'])\n",
    "    # Note time is in type of datetime, we need to change to integer\n",
    "    selected_data['Time'] = selected_data['Time'].dt.days\n",
    "\n",
    "    \n",
    "    selected_data['BIRTHDATE'] = selected_data['BIRTHDATE'].apply(lambda row : datetime.strptime(str(row)[:10],Time_format) if (type(row)==str) else 'not defined' )\n",
    "    selected_data['Age_cancer'] = (selected_data['start_time'] - selected_data['BIRTHDATE'])\n",
    "    selected_data['Age_cancer'] = round(selected_data['Age_cancer'].dt.days/365)\n",
    "    \n",
    "    \n",
    "    # Notice we need to add the start point for each group for the Kaplan Meier curve(Survival probability as 1 when Time at 0)\n",
    "    start_point = False\n",
    "    if start_point==False:\n",
    "        for condition_type in np.unique(selected_data.DESCRIPTION):\n",
    "            new_row = {\"Id\":\"Added\",\"Time\":0,\"Status\":0,\"DESCRIPTION\": condition_type}\n",
    "            selected_data = selected_data.append(new_row, ignore_index=True)\n",
    "        start_point = True\n",
    "    \n",
    "    return selected_data[['Id','Time','Status','DESCRIPTION','GENDER','Age_cancer']]\n",
    "\n",
    "    "
   ]
  },
  {
   "cell_type": "code",
   "execution_count": 12,
   "id": "24a7d2e7-2797-4147-ae36-69ed37916e75",
   "metadata": {},
   "outputs": [],
   "source": [
    "Patient = pd.read_csv(\"../../Test Sets/Set A_All die in 1 year/patients.csv\")\n",
    "Conditions = pd.read_csv(\"../../Test Sets/Set A_All die in 1 year/conditions.csv\")\n",
    "\n",
    "chosen_condition = ['Malignant neoplasm of breast (disorder)']\n",
    "Time_format = \"%d/%m/%Y\"\n",
    "survival_analysis_endtime = datetime.strptime('2023-1-21',\"%Y-%m-%d\")\n",
    "\n",
    "set_a_standard_format = get_standard_format_Synthea_condition_case(Patient,Conditions,chosen_condition,Time_format, survival_analysis_endtime)\n",
    "set_a_standard_format.to_csv(os.path.join('../../Kaplan_Meier_R/preprocessed_data','all_die_1_year.csv'))\n"
   ]
  },
  {
   "cell_type": "code",
   "execution_count": 13,
   "id": "aa461aff-2bdc-4f15-87a0-63fa1345f6d5",
   "metadata": {},
   "outputs": [],
   "source": [
    "Patient = pd.read_csv(\"../../Test Sets/Set B_ All alive/patients.csv\")\n",
    "Conditions = pd.read_csv(\"../../Test Sets/Set B_ All alive/conditions.csv\")\n",
    "\n",
    "chosen_condition = ['Malignant neoplasm of breast (disorder)']\n",
    "Time_format = \"%d/%m/%Y\"\n",
    "survival_analysis_endtime = datetime.strptime('2023/1/21',\"%Y/%m/%d\")\n",
    "\n",
    "set_b_standard_format = get_standard_format_Synthea_condition_case(Patient,Conditions,chosen_condition,Time_format, survival_analysis_endtime)\n",
    "set_b_standard_format.to_csv(os.path.join('../../Kaplan_Meier_R/preprocessed_data','all_alive.csv'))"
   ]
  },
  {
   "cell_type": "code",
   "execution_count": 14,
   "id": "93486908-1f4c-4de5-b32e-f4acf31c1278",
   "metadata": {},
   "outputs": [],
   "source": [
    "Patient = pd.read_csv(\"../../Test Sets/Set C_All die in 1 day/patients.csv\")\n",
    "Conditions = pd.read_csv(\"../../Test Sets/Set C_All die in 1 day/conditions.csv\")\n",
    "\n",
    "chosen_condition = ['Malignant neoplasm of breast (disorder)']\n",
    "Time_format = \"%d/%m/%Y\"\n",
    "survival_analysis_endtime = datetime.strptime('2023/1/21',\"%Y/%m/%d\")\n",
    "\n",
    "set_c_standard_format = get_standard_format_Synthea_condition_case(Patient,Conditions,chosen_condition,Time_format, survival_analysis_endtime)\n",
    "set_c_standard_format.to_csv(os.path.join('../../Kaplan_Meier_R/preprocessed_data','all_die_1_day.csv'))"
   ]
  },
  {
   "cell_type": "code",
   "execution_count": 15,
   "id": "3207f229-bf70-4d3f-aea8-072a70bb9389",
   "metadata": {},
   "outputs": [],
   "source": [
    "Patient = pd.read_csv(\"../../Test Sets/Set D_All 1 year after each other(Staircase)/patients.csv\")\n",
    "Conditions = pd.read_csv(\"../../Test Sets/Set D_All 1 year after each other(Staircase)/conditions.csv\")\n",
    "\n",
    "chosen_condition = ['Malignant neoplasm of breast (disorder)']\n",
    "Time_format = \"%d/%m/%Y\"\n",
    "survival_analysis_endtime = datetime.strptime('2023/1/21',\"%Y/%m/%d\")\n",
    "\n",
    "set_d_standard_format = get_standard_format_Synthea_condition_case(Patient,Conditions,chosen_condition,Time_format, survival_analysis_endtime)\n",
    "set_d_standard_format.to_csv(os.path.join('../../Kaplan_Meier_R/preprocessed_data','all_die_prop_time.csv'))"
   ]
  },
  {
   "cell_type": "code",
   "execution_count": 16,
   "id": "028bbb5a-11e1-45e8-a03a-e2002d644ff5",
   "metadata": {},
   "outputs": [],
   "source": [
    "Patient = pd.read_csv(\"../../Test Sets/two_conditions/Patients_g.csv\")\n",
    "Conditions = pd.read_csv(\"../../Test Sets/two_conditions/conditions_g.csv\")\n",
    "\n",
    "chosen_condition = [\"Malignant neoplasm of breast (disorder)\",\"Metastasis from malignant tumor of breast (disorder)\"]\n",
    "Time_format = \"%d/%m/%Y\"\n",
    "survival_analysis_endtime = datetime.strptime('2023/1/21',\"%Y/%m/%d\")\n",
    "\n",
    "set_g_standard_format = get_standard_format_Synthea_condition_case(Patient,Conditions,chosen_condition,Time_format, survival_analysis_endtime)\n",
    "set_g_standard_format.to_csv(os.path.join('../../Kaplan_Meier_R/preprocessed_data','two_condition.csv'))"
   ]
  },
  {
   "cell_type": "code",
   "execution_count": 17,
   "id": "301293ba-59c3-4329-8d49-2fcd4945cd24",
   "metadata": {},
   "outputs": [],
   "source": [
    "Patient = pd.read_csv(\"../../Test Sets/Set E_50% die in 5 years/Patients.csv\")\n",
    "Conditions = pd.read_csv(\"../../Test Sets/Set E_50% die in 5 years/conditions.csv\")\n",
    "\n",
    "chosen_condition = [\"Malignant neoplasm of breast (disorder)\",\"Metastasis from malignant tumor of breast (disorder)\"]\n",
    "Time_format = \"%d/%m/%Y\"\n",
    "survival_analysis_endtime = datetime.strptime('2023/1/21',\"%Y/%m/%d\")\n",
    "\n",
    "set_e_standard_format = get_standard_format_Synthea_condition_case(Patient,Conditions,chosen_condition,Time_format, survival_analysis_endtime)\n",
    "set_e_standard_format.to_csv(os.path.join('../../Kaplan_Meier_R/preprocessed_data','half_die.csv'))"
   ]
  },
  {
   "cell_type": "markdown",
   "id": "6994c99f-3f44-4f9e-ab48-e3be2b2273d3",
   "metadata": {},
   "source": [
    "-------"
   ]
  },
  {
   "cell_type": "markdown",
   "id": "0d820a39-e959-4c81-85db-34fbfe48ef79",
   "metadata": {},
   "source": [
    "#### Utilize Jupytab to provide server \n",
    "- load dataframe into server \n",
    "- render table schema\n",
    "- get data when run the config.init file\n",
    "\n",
    "Use command : <code>jupytab --config= path-to-config.in</code> to run the server under the server environment"
   ]
  },
  {
   "cell_type": "code",
   "execution_count": 18,
   "id": "bd9f59ae-9d3e-4151-a452-e5ad01e2a52b",
   "metadata": {},
   "outputs": [
    {
     "name": "stdout",
     "output_type": "stream",
     "text": [
      "HTTP Status: 200\n"
     ]
    }
   ],
   "source": [
    "def get_standard_format(API_token,chosen_medication,chosen_condition,survival_analysis_endtime):\n",
    "    \n",
    "    extracted_data = export_records_from_redcap(API_token)\n",
    "    selected_data = get_standard_format_medication(extracted_data,chosen_condition,chosen_medication,survival_analysis_endtime)\n",
    "    \n",
    "    selected_data.to_csv(os.path.join('../../Kaplan_Meier_R/preprocessed_data','two_drug.csv'))\n",
    "    \n",
    "    return selected_data #selected_data[['Id','Time','Status','Medication','Age_cancer','GENDER']]\n",
    "\n",
    "\n",
    "\n",
    "API_token = '5384D3408C5BD6C3611DFFCA1D3B4E7F'\n",
    "# chosen_medication = ['100 ML Epirubicin Hydrochloride 2 MG/ML Injection':'1732186','Paclitaxel 100 MG Injection':'583214']\n",
    "chosen_medication = [1732186,583214]\n",
    "# chosen_condition = ['Malignant neoplasm of breast (disorder)':254837009]\n",
    "chosen_condition = [254837009]\n",
    "survival_analysis_endtime = datetime.strptime('2023-1-21', \"%Y-%m-%d\")\n",
    "standard_format = get_standard_format(API_token,chosen_medication,chosen_condition,survival_analysis_endtime)\n",
    "\n",
    "\n",
    "# DATA = get_standard_format(API_token,chosen_condition,chosen_medication,survival_analysis_endtime)\n",
    "#Load dataframe with Tables method in Jupytab so that it can be exposed to Tableau\n",
    "tables = jupytab.Tables()\n",
    "tables['extracted_data'] = jupytab.DataFrameTable(\"extracted_data\", standard_format, include_index=False)\n",
    "\n",
    "tables['test_set_a'] = jupytab.DataFrameTable(\"test_set_a\", set_a_standard_format, include_index=False)\n",
    "tables['test_set_b'] = jupytab.DataFrameTable(\"test_set_b\", set_b_standard_format, include_index=False)\n",
    "tables['test_set_c'] = jupytab.DataFrameTable(\"test_set_c\", set_c_standard_format, include_index=False)\n",
    "tables['test_set_d'] = jupytab.DataFrameTable(\"test_set_d\", set_d_standard_format, include_index=False)\n",
    "tables['test_set_g'] = jupytab.DataFrameTable(\"test_set_g\", set_g_standard_format, include_index=False)\n",
    "tables['test_set_e'] = jupytab.DataFrameTable(\"test_set_e\", set_e_standard_format, include_index=False)\n",
    "\n"
   ]
  },
  {
   "cell_type": "code",
   "execution_count": 19,
   "id": "26494ca7-70f6-41fb-b0db-06203aa1f5ef",
   "metadata": {},
   "outputs": [
    {
     "name": "stdout",
     "output_type": "stream",
     "text": [
      "[{\"id\": \"extracted_data\", \"alias\": \"extracted_data\", \"columns\": [{\"id\": \"Id\", \"dataType\": \"string\"}, {\"id\": \"redcap_repeat_instrument\", \"dataType\": \"string\"}, {\"id\": \"redcap_repeat_instance\", \"dataType\": \"float\"}, {\"id\": \"BIRTHDATE\", \"dataType\": \"datetime\"}, {\"id\": \"DEATHDATE\", \"dataType\": \"string\"}, {\"id\": \"ssn_patient\", \"dataType\": \"string\"}, {\"id\": \"drivers_patient\", \"dataType\": \"string\"}, {\"id\": \"passport_patient\", \"dataType\": \"string\"}, {\"id\": \"prefix_patient\", \"dataType\": \"string\"}, {\"id\": \"first_patient\", \"dataType\": \"string\"}, {\"id\": \"last_patient\", \"dataType\": \"string\"}, {\"id\": \"suffix_patient\", \"dataType\": \"string\"}, {\"id\": \"maiden_patient\", \"dataType\": \"string\"}, {\"id\": \"marital_patient\", \"dataType\": \"float\"}, {\"id\": \"race_patient\", \"dataType\": \"string\"}, {\"id\": \"ethnicity_patient\", \"dataType\": \"string\"}, {\"id\": \"GENDER\", \"dataType\": \"string\"}, {\"id\": \"birthplace_patient\", \"dataType\": \"string\"}, {\"id\": \"address_patient\", \"dataType\": \"string\"}, {\"id\": \"city_patient\", \"dataType\": \"string\"}, {\"id\": \"state_patient\", \"dataType\": \"string\"}, {\"id\": \"fips_patient\", \"dataType\": \"float\"}, {\"id\": \"county_patient\", \"dataType\": \"string\"}, {\"id\": \"zip_patient\", \"dataType\": \"float\"}, {\"id\": \"lat_patient\", \"dataType\": \"float\"}, {\"id\": \"lon_patient\", \"dataType\": \"float\"}, {\"id\": \"healthcare_expenses_patient\", \"dataType\": \"float\"}, {\"id\": \"healthcare_coverage_patient\", \"dataType\": \"float\"}, {\"id\": \"income_patient\", \"dataType\": \"float\"}, {\"id\": \"patients_complete\", \"dataType\": \"float\"}, {\"id\": \"start_medication\", \"dataType\": \"string\"}, {\"id\": \"stop_medication\", \"dataType\": \"string\"}, {\"id\": \"payer_medication\", \"dataType\": \"string\"}, {\"id\": \"encounter_medication\", \"dataType\": \"string\"}, {\"id\": \"code_medication\", \"dataType\": \"float\"}, {\"id\": \"description_medication\", \"dataType\": \"string\"}, {\"id\": \"base_cost_medication\", \"dataType\": \"float\"}, {\"id\": \"payer_coverage_medication\", \"dataType\": \"float\"}, {\"id\": \"dispenses_medication\", \"dataType\": \"float\"}, {\"id\": \"totalcost_medication\", \"dataType\": \"float\"}, {\"id\": \"reasoncode_medication\", \"dataType\": \"float\"}, {\"id\": \"reasondescription_medication\", \"dataType\": \"string\"}, {\"id\": \"medications_complete\", \"dataType\": \"float\"}, {\"id\": \"start_condition\", \"dataType\": \"string\"}, {\"id\": \"stop_condition\", \"dataType\": \"string\"}, {\"id\": \"encounter_condition\", \"dataType\": \"string\"}, {\"id\": \"code_condition\", \"dataType\": \"float\"}, {\"id\": \"description_condition\", \"dataType\": \"string\"}, {\"id\": \"conditions_complete\", \"dataType\": \"float\"}, {\"id\": \"PATIENT\", \"dataType\": \"string\"}, {\"id\": \"Medication\", \"dataType\": \"string\"}, {\"id\": \"CODE_medication\", \"dataType\": \"float\"}, {\"id\": \"DESCRIPTION_condition\", \"dataType\": \"string\"}, {\"id\": \"START_condition\", \"dataType\": \"datetime\"}, {\"id\": \"earliest_medication_starttime\", \"dataType\": \"datetime\"}, {\"id\": \"Status\", \"dataType\": \"int\"}, {\"id\": \"start_time\", \"dataType\": \"datetime\"}, {\"id\": \"end_time\", \"dataType\": \"datetime\"}, {\"id\": \"Time\", \"dataType\": \"int\"}, {\"id\": \"Age_cancer\", \"dataType\": \"float\"}]}, {\"id\": \"test_set_a\", \"alias\": \"test_set_a\", \"columns\": [{\"id\": \"Id\", \"dataType\": \"string\"}, {\"id\": \"Time\", \"dataType\": \"int\"}, {\"id\": \"Status\", \"dataType\": \"int\"}, {\"id\": \"DESCRIPTION\", \"dataType\": \"string\"}, {\"id\": \"GENDER\", \"dataType\": \"string\"}, {\"id\": \"Age_cancer\", \"dataType\": \"float\"}]}, {\"id\": \"test_set_b\", \"alias\": \"test_set_b\", \"columns\": [{\"id\": \"Id\", \"dataType\": \"string\"}, {\"id\": \"Time\", \"dataType\": \"int\"}, {\"id\": \"Status\", \"dataType\": \"int\"}, {\"id\": \"DESCRIPTION\", \"dataType\": \"string\"}, {\"id\": \"GENDER\", \"dataType\": \"string\"}, {\"id\": \"Age_cancer\", \"dataType\": \"float\"}]}, {\"id\": \"test_set_c\", \"alias\": \"test_set_c\", \"columns\": [{\"id\": \"Id\", \"dataType\": \"string\"}, {\"id\": \"Time\", \"dataType\": \"int\"}, {\"id\": \"Status\", \"dataType\": \"int\"}, {\"id\": \"DESCRIPTION\", \"dataType\": \"string\"}, {\"id\": \"GENDER\", \"dataType\": \"string\"}, {\"id\": \"Age_cancer\", \"dataType\": \"float\"}]}, {\"id\": \"test_set_d\", \"alias\": \"test_set_d\", \"columns\": [{\"id\": \"Id\", \"dataType\": \"string\"}, {\"id\": \"Time\", \"dataType\": \"int\"}, {\"id\": \"Status\", \"dataType\": \"int\"}, {\"id\": \"DESCRIPTION\", \"dataType\": \"string\"}, {\"id\": \"GENDER\", \"dataType\": \"string\"}, {\"id\": \"Age_cancer\", \"dataType\": \"float\"}]}, {\"id\": \"test_set_g\", \"alias\": \"test_set_g\", \"columns\": [{\"id\": \"Id\", \"dataType\": \"string\"}, {\"id\": \"Time\", \"dataType\": \"int\"}, {\"id\": \"Status\", \"dataType\": \"int\"}, {\"id\": \"DESCRIPTION\", \"dataType\": \"string\"}, {\"id\": \"GENDER\", \"dataType\": \"string\"}, {\"id\": \"Age_cancer\", \"dataType\": \"float\"}]}, {\"id\": \"test_set_e\", \"alias\": \"test_set_e\", \"columns\": [{\"id\": \"Id\", \"dataType\": \"string\"}, {\"id\": \"Time\", \"dataType\": \"int\"}, {\"id\": \"Status\", \"dataType\": \"int\"}, {\"id\": \"DESCRIPTION\", \"dataType\": \"string\"}, {\"id\": \"GENDER\", \"dataType\": \"string\"}, {\"id\": \"Age_cancer\", \"dataType\": \"float\"}]}]\n"
     ]
    }
   ],
   "source": [
    "# GET /schema\n",
    "tables.render_schema()"
   ]
  },
  {
   "cell_type": "code",
   "execution_count": 20,
   "id": "03c496ff-da58-4563-823d-0e277d124fc3",
   "metadata": {},
   "outputs": [
    {
     "name": "stdout",
     "output_type": "stream",
     "text": [
      "Not available outside jupytab context\n"
     ]
    }
   ],
   "source": [
    "# GET /data\n",
    "try:\n",
    "    tables.render_data(REQUEST)\n",
    "except NameError:\n",
    "    print(\"Not available outside jupytab context\")"
   ]
  }
 ],
 "metadata": {
  "kernelspec": {
   "display_name": "jupytab-notebook-env",
   "language": "python",
   "name": "python3"
  },
  "language_info": {
   "codemirror_mode": {
    "name": "ipython",
    "version": 3
   },
   "file_extension": ".py",
   "mimetype": "text/x-python",
   "name": "python",
   "nbconvert_exporter": "python",
   "pygments_lexer": "ipython3",
   "version": "3.7.16"
  },
  "vscode": {
   "interpreter": {
    "hash": "3fa747e8f11c937d319b708ef1d94ab00c5f0c7ef6dbd43b1cda1ef287b362fa"
   }
  }
 },
 "nbformat": 4,
 "nbformat_minor": 5
}
